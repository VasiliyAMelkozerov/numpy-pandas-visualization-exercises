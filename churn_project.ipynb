{
 "cells": [
  {
   "cell_type": "code",
   "execution_count": 1,
   "id": "bfe3488f",
   "metadata": {},
   "outputs": [],
   "source": [
    "import pandas as pd\n",
    "import matplotlib.pyplot as plt\n",
    "import seaborn as sns\n",
    "import numpy as np"
   ]
  },
  {
   "cell_type": "code",
   "execution_count": 2,
   "id": "58f07d1f",
   "metadata": {},
   "outputs": [
    {
     "data": {
      "text/html": [
       "<div>\n",
       "<style scoped>\n",
       "    .dataframe tbody tr th:only-of-type {\n",
       "        vertical-align: middle;\n",
       "    }\n",
       "\n",
       "    .dataframe tbody tr th {\n",
       "        vertical-align: top;\n",
       "    }\n",
       "\n",
       "    .dataframe thead th {\n",
       "        text-align: right;\n",
       "    }\n",
       "</style>\n",
       "<table border=\"1\" class=\"dataframe\">\n",
       "  <thead>\n",
       "    <tr style=\"text-align: right;\">\n",
       "      <th></th>\n",
       "      <th>0</th>\n",
       "      <th>1</th>\n",
       "      <th>2</th>\n",
       "      <th>3</th>\n",
       "      <th>4</th>\n",
       "    </tr>\n",
       "  </thead>\n",
       "  <tbody>\n",
       "    <tr>\n",
       "      <th>customer_id</th>\n",
       "      <td>0002-ORFBO</td>\n",
       "      <td>0003-MKNFE</td>\n",
       "      <td>0004-TLHLJ</td>\n",
       "      <td>0011-IGKFF</td>\n",
       "      <td>0013-EXCHZ</td>\n",
       "    </tr>\n",
       "    <tr>\n",
       "      <th>gender</th>\n",
       "      <td>Female</td>\n",
       "      <td>Male</td>\n",
       "      <td>Male</td>\n",
       "      <td>Male</td>\n",
       "      <td>Female</td>\n",
       "    </tr>\n",
       "    <tr>\n",
       "      <th>is_senior_citizen</th>\n",
       "      <td>0</td>\n",
       "      <td>0</td>\n",
       "      <td>0</td>\n",
       "      <td>1</td>\n",
       "      <td>1</td>\n",
       "    </tr>\n",
       "    <tr>\n",
       "      <th>partner</th>\n",
       "      <td>Yes</td>\n",
       "      <td>No</td>\n",
       "      <td>No</td>\n",
       "      <td>Yes</td>\n",
       "      <td>Yes</td>\n",
       "    </tr>\n",
       "    <tr>\n",
       "      <th>dependents</th>\n",
       "      <td>Yes</td>\n",
       "      <td>No</td>\n",
       "      <td>No</td>\n",
       "      <td>No</td>\n",
       "      <td>No</td>\n",
       "    </tr>\n",
       "    <tr>\n",
       "      <th>phone_service</th>\n",
       "      <td>1</td>\n",
       "      <td>2</td>\n",
       "      <td>1</td>\n",
       "      <td>1</td>\n",
       "      <td>1</td>\n",
       "    </tr>\n",
       "    <tr>\n",
       "      <th>internet_service</th>\n",
       "      <td>1</td>\n",
       "      <td>1</td>\n",
       "      <td>2</td>\n",
       "      <td>2</td>\n",
       "      <td>2</td>\n",
       "    </tr>\n",
       "    <tr>\n",
       "      <th>contract_type</th>\n",
       "      <td>1</td>\n",
       "      <td>0</td>\n",
       "      <td>0</td>\n",
       "      <td>0</td>\n",
       "      <td>0</td>\n",
       "    </tr>\n",
       "    <tr>\n",
       "      <th>payment_type</th>\n",
       "      <td>Mailed check</td>\n",
       "      <td>Mailed check</td>\n",
       "      <td>Electronic check</td>\n",
       "      <td>Electronic check</td>\n",
       "      <td>Mailed check</td>\n",
       "    </tr>\n",
       "    <tr>\n",
       "      <th>monthly_charges</th>\n",
       "      <td>65.6</td>\n",
       "      <td>59.9</td>\n",
       "      <td>73.9</td>\n",
       "      <td>98.0</td>\n",
       "      <td>83.9</td>\n",
       "    </tr>\n",
       "    <tr>\n",
       "      <th>total_charges</th>\n",
       "      <td>593.3</td>\n",
       "      <td>542.4</td>\n",
       "      <td>280.85</td>\n",
       "      <td>1237.85</td>\n",
       "      <td>267.4</td>\n",
       "    </tr>\n",
       "    <tr>\n",
       "      <th>churn</th>\n",
       "      <td>No</td>\n",
       "      <td>No</td>\n",
       "      <td>Yes</td>\n",
       "      <td>Yes</td>\n",
       "      <td>Yes</td>\n",
       "    </tr>\n",
       "    <tr>\n",
       "      <th>tenure</th>\n",
       "      <td>9.0</td>\n",
       "      <td>9.1</td>\n",
       "      <td>3.8</td>\n",
       "      <td>12.6</td>\n",
       "      <td>3.2</td>\n",
       "    </tr>\n",
       "    <tr>\n",
       "      <th>is_female</th>\n",
       "      <td>True</td>\n",
       "      <td>False</td>\n",
       "      <td>False</td>\n",
       "      <td>False</td>\n",
       "      <td>True</td>\n",
       "    </tr>\n",
       "    <tr>\n",
       "      <th>has_churned</th>\n",
       "      <td>False</td>\n",
       "      <td>False</td>\n",
       "      <td>True</td>\n",
       "      <td>True</td>\n",
       "      <td>True</td>\n",
       "    </tr>\n",
       "    <tr>\n",
       "      <th>has_phone</th>\n",
       "      <td>True</td>\n",
       "      <td>True</td>\n",
       "      <td>True</td>\n",
       "      <td>True</td>\n",
       "      <td>True</td>\n",
       "    </tr>\n",
       "    <tr>\n",
       "      <th>has_internet</th>\n",
       "      <td>True</td>\n",
       "      <td>True</td>\n",
       "      <td>True</td>\n",
       "      <td>True</td>\n",
       "      <td>True</td>\n",
       "    </tr>\n",
       "    <tr>\n",
       "      <th>has_phone_internet</th>\n",
       "      <td>True</td>\n",
       "      <td>True</td>\n",
       "      <td>True</td>\n",
       "      <td>True</td>\n",
       "      <td>True</td>\n",
       "    </tr>\n",
       "    <tr>\n",
       "      <th>partner_dependents</th>\n",
       "      <td>3</td>\n",
       "      <td>0</td>\n",
       "      <td>0</td>\n",
       "      <td>1</td>\n",
       "      <td>1</td>\n",
       "    </tr>\n",
       "    <tr>\n",
       "      <th>calculated_monthly_avg</th>\n",
       "      <td>65.6</td>\n",
       "      <td>59.9</td>\n",
       "      <td>73.9</td>\n",
       "      <td>98</td>\n",
       "      <td>83.9</td>\n",
       "    </tr>\n",
       "    <tr>\n",
       "      <th>validate</th>\n",
       "      <td>TRUE</td>\n",
       "      <td>TRUE</td>\n",
       "      <td>TRUE</td>\n",
       "      <td>TRUE</td>\n",
       "      <td>TRUE</td>\n",
       "    </tr>\n",
       "    <tr>\n",
       "      <th>phone_service_type</th>\n",
       "      <td>One Line</td>\n",
       "      <td>Two or More Lines</td>\n",
       "      <td>One Line</td>\n",
       "      <td>One Line</td>\n",
       "      <td>One Line</td>\n",
       "    </tr>\n",
       "    <tr>\n",
       "      <th>Internet_service_type</th>\n",
       "      <td>DSL</td>\n",
       "      <td>DSL</td>\n",
       "      <td>Fiber Optic</td>\n",
       "      <td>Fiber Optic</td>\n",
       "      <td>Fiber Optic</td>\n",
       "    </tr>\n",
       "    <tr>\n",
       "      <th>Contract_type</th>\n",
       "      <td>1 Year</td>\n",
       "      <td>Month-to-Month</td>\n",
       "      <td>Month-to-Month</td>\n",
       "      <td>Month-to-Month</td>\n",
       "      <td>Month-to-Month</td>\n",
       "    </tr>\n",
       "    <tr>\n",
       "      <th>rounded_tenure</th>\n",
       "      <td>9.0</td>\n",
       "      <td>9.0</td>\n",
       "      <td>4.0</td>\n",
       "      <td>13.0</td>\n",
       "      <td>3.0</td>\n",
       "    </tr>\n",
       "    <tr>\n",
       "      <th>Service_type</th>\n",
       "      <td>Internet+Phone</td>\n",
       "      <td>Internet+Phone</td>\n",
       "      <td>Internet+Phone</td>\n",
       "      <td>Internet+Phone</td>\n",
       "      <td>Internet+Phone</td>\n",
       "    </tr>\n",
       "    <tr>\n",
       "      <th>Tenure_binned</th>\n",
       "      <td>&lt;1 years</td>\n",
       "      <td>&lt;1 years</td>\n",
       "      <td>&lt;1 years</td>\n",
       "      <td>1-2 years</td>\n",
       "      <td>&lt;1 years</td>\n",
       "    </tr>\n",
       "  </tbody>\n",
       "</table>\n",
       "</div>"
      ],
      "text/plain": [
       "                                     0                  1                 2  \\\n",
       "customer_id                 0002-ORFBO         0003-MKNFE        0004-TLHLJ   \n",
       "gender                          Female               Male              Male   \n",
       "is_senior_citizen                    0                  0                 0   \n",
       "partner                            Yes                 No                No   \n",
       "dependents                         Yes                 No                No   \n",
       "phone_service                        1                  2                 1   \n",
       "internet_service                     1                  1                 2   \n",
       "contract_type                        1                  0                 0   \n",
       "payment_type              Mailed check       Mailed check  Electronic check   \n",
       "monthly_charges                   65.6               59.9              73.9   \n",
       "total_charges                    593.3              542.4            280.85   \n",
       "churn                               No                 No               Yes   \n",
       "tenure                             9.0                9.1               3.8   \n",
       "is_female                         True              False             False   \n",
       "has_churned                      False              False              True   \n",
       "has_phone                         True               True              True   \n",
       "has_internet                      True               True              True   \n",
       "has_phone_internet                True               True              True   \n",
       "partner_dependents                   3                  0                 0   \n",
       "calculated_monthly_avg            65.6               59.9              73.9   \n",
       "validate                          TRUE               TRUE              TRUE   \n",
       "phone_service_type            One Line  Two or More Lines          One Line   \n",
       "Internet_service_type              DSL                DSL       Fiber Optic   \n",
       "Contract_type                   1 Year     Month-to-Month    Month-to-Month   \n",
       "rounded_tenure                     9.0                9.0               4.0   \n",
       "Service_type            Internet+Phone     Internet+Phone    Internet+Phone   \n",
       "Tenure_binned                 <1 years           <1 years          <1 years   \n",
       "\n",
       "                                       3               4  \n",
       "customer_id                   0011-IGKFF      0013-EXCHZ  \n",
       "gender                              Male          Female  \n",
       "is_senior_citizen                      1               1  \n",
       "partner                              Yes             Yes  \n",
       "dependents                            No              No  \n",
       "phone_service                          1               1  \n",
       "internet_service                       2               2  \n",
       "contract_type                          0               0  \n",
       "payment_type            Electronic check    Mailed check  \n",
       "monthly_charges                     98.0            83.9  \n",
       "total_charges                    1237.85           267.4  \n",
       "churn                                Yes             Yes  \n",
       "tenure                              12.6             3.2  \n",
       "is_female                          False            True  \n",
       "has_churned                         True            True  \n",
       "has_phone                           True            True  \n",
       "has_internet                        True            True  \n",
       "has_phone_internet                  True            True  \n",
       "partner_dependents                     1               1  \n",
       "calculated_monthly_avg                98            83.9  \n",
       "validate                            TRUE            TRUE  \n",
       "phone_service_type              One Line        One Line  \n",
       "Internet_service_type        Fiber Optic     Fiber Optic  \n",
       "Contract_type             Month-to-Month  Month-to-Month  \n",
       "rounded_tenure                      13.0             3.0  \n",
       "Service_type              Internet+Phone  Internet+Phone  \n",
       "Tenure_binned                  1-2 years        <1 years  "
      ]
     },
     "execution_count": 2,
     "metadata": {},
     "output_type": "execute_result"
    }
   ],
   "source": [
    "df = pd.read_csv(\"telco.csv\")\n",
    "df.head().T"
   ]
  },
  {
   "cell_type": "markdown",
   "id": "458088aa",
   "metadata": {},
   "source": [
    "# 3 Step Process to Analyzing Your Data (General case)\n",
    "- Define your goal, why this matters, your target variable, initial hypotheses (write these down)\n",
    "- Get to know your data: obtain a 10,000 ft view of your data before diving in (write down what you learn/discover)\n",
    "- Answer your initial hypotheses questions with visuals and statistics (write down takeaways as you go)\n"
   ]
  },
  {
   "cell_type": "code",
   "execution_count": 3,
   "id": "84e01aa1",
   "metadata": {},
   "outputs": [],
   "source": [
    "#my initial hyponthesis is that it is time or money related"
   ]
  },
  {
   "cell_type": "code",
   "execution_count": 4,
   "id": "bcb7817f",
   "metadata": {},
   "outputs": [
    {
     "data": {
      "text/plain": [
       "<AxesSubplot:>"
      ]
     },
     "execution_count": 4,
     "metadata": {},
     "output_type": "execute_result"
    },
    {
     "data": {
      "image/png": "[encoded data removed]",
      "text/plain": [
       "<Figure size 432x288 with 1 Axes>"
      ]
     },
     "metadata": {
      "needs_background": "light"
     },
     "output_type": "display_data"
    }
   ],
   "source": [
    "#a histogram gives us an idea of how the two compare\n",
    "df.churn.hist()"
   ]
  },
  {
   "cell_type": "code",
   "execution_count": 5,
   "id": "e67e0e08",
   "metadata": {},
   "outputs": [
    {
     "data": {
      "text/plain": [
       "No     5179\n",
       "Yes    1870\n",
       "Name: churn, dtype: int64"
      ]
     },
     "execution_count": 5,
     "metadata": {},
     "output_type": "execute_result"
    }
   ],
   "source": [
    "#this gives us more tangible numbers to work with\n",
    "df.churn.value_counts()"
   ]
  },
  {
   "cell_type": "code",
   "execution_count": 6,
   "id": "93399b0a",
   "metadata": {},
   "outputs": [
    {
     "data": {
      "text/plain": [
       "(7049, 27)"
      ]
     },
     "execution_count": 6,
     "metadata": {},
     "output_type": "execute_result"
    }
   ],
   "source": [
    "df.shape"
   ]
  },
  {
   "cell_type": "code",
   "execution_count": 7,
   "id": "a684db81",
   "metadata": {},
   "outputs": [
    {
     "data": {
      "text/plain": [
       "7049"
      ]
     },
     "execution_count": 7,
     "metadata": {},
     "output_type": "execute_result"
    }
   ],
   "source": [
    "df.churn.shape[0]\n",
    "#now we have a total volume to shape a percentage from"
   ]
  },
  {
   "cell_type": "code",
   "execution_count": 8,
   "id": "fa600126",
   "metadata": {},
   "outputs": [
    {
     "data": {
      "text/plain": [
       "0.2652858561498085"
      ]
     },
     "execution_count": 8,
     "metadata": {},
     "output_type": "execute_result"
    }
   ],
   "source": [
    "# df[df.Attrition == \"Yes\"].shape[0] / df.shape[0]\n",
    "df[df.churn == \"Yes\"].shape[0] / df.shape[0]\n",
    "#now we can see that about a quarter of all customers have left"
   ]
  },
  {
   "cell_type": "code",
   "execution_count": 9,
   "id": "e2ec9f08",
   "metadata": {},
   "outputs": [
    {
     "name": "stdout",
     "output_type": "stream",
     "text": [
      "<class 'pandas.core.frame.DataFrame'>\n",
      "RangeIndex: 7049 entries, 0 to 7048\n",
      "Data columns (total 27 columns):\n",
      " #   Column                  Non-Null Count  Dtype  \n",
      "---  ------                  --------------  -----  \n",
      " 0   customer_id             7049 non-null   object \n",
      " 1   gender                  7049 non-null   object \n",
      " 2   is_senior_citizen       7049 non-null   int64  \n",
      " 3   partner                 7049 non-null   object \n",
      " 4   dependents              7049 non-null   object \n",
      " 5   phone_service           7049 non-null   int64  \n",
      " 6   internet_service        7049 non-null   int64  \n",
      " 7   contract_type           7049 non-null   int64  \n",
      " 8   payment_type            7049 non-null   object \n",
      " 9   monthly_charges         7049 non-null   float64\n",
      " 10  total_charges           7038 non-null   float64\n",
      " 11  churn                   7049 non-null   object \n",
      " 12  tenure                  7049 non-null   float64\n",
      " 13  is_female               7049 non-null   bool   \n",
      " 14  has_churned             7049 non-null   bool   \n",
      " 15  has_phone               7049 non-null   bool   \n",
      " 16  has_internet            7049 non-null   bool   \n",
      " 17  has_phone_internet      7049 non-null   bool   \n",
      " 18  partner_dependents      7049 non-null   int64  \n",
      " 19  calculated_monthly_avg  7049 non-null   object \n",
      " 20  validate                7049 non-null   object \n",
      " 21  phone_service_type      7049 non-null   object \n",
      " 22  Internet_service_type   7049 non-null   object \n",
      " 23  Contract_type           7049 non-null   object \n",
      " 24  rounded_tenure          7049 non-null   float64\n",
      " 25  Service_type            7049 non-null   object \n",
      " 26  Tenure_binned           7049 non-null   object \n",
      "dtypes: bool(5), float64(4), int64(5), object(13)\n",
      "memory usage: 1.2+ MB\n"
     ]
    }
   ],
   "source": [
    "df.info()\n",
    "#in researching and looking for material to understand this stuff\n",
    "#the window of when churn happens becomes more and more apparent "
   ]
  },
  {
   "cell_type": "code",
   "execution_count": 10,
   "id": "dd171605",
   "metadata": {},
   "outputs": [
    {
     "data": {
      "text/plain": [
       "1870"
      ]
     },
     "execution_count": 10,
     "metadata": {},
     "output_type": "execute_result"
    }
   ],
   "source": [
    "(df.churn == \"Yes\").sum()\n",
    "#this is our total of churner's for this dataset\n",
    "#we we need a quantifiable way to  see just how much a company is losing\n",
    "#a question here would be to ask what how much a customer is worth"
   ]
  },
  {
   "cell_type": "markdown",
   "id": "2caca689",
   "metadata": {},
   "source": [
    "# Why does this matter? <br> \n",
    "##  I just realised that the way i can quantify impact is by measuring  an average amount that the customer could have potentially brought"
   ]
  },
  {
   "cell_type": "code",
   "execution_count": 11,
   "id": "aa301963",
   "metadata": {},
   "outputs": [
    {
     "data": {
      "text/plain": [
       "<seaborn.axisgrid.FacetGrid at 0x7fe068a7bb80>"
      ]
     },
     "execution_count": 11,
     "metadata": {},
     "output_type": "execute_result"
    },
    {
     "data": {
      "image/png": "[encoded data removed]",
      "text/plain": [
       "<Figure size 432.125x360 with 1 Axes>"
      ]
     },
     "metadata": {
      "needs_background": "light"
     },
     "output_type": "display_data"
    }
   ],
   "source": [
    "sns.displot(x='churn', data=df, hue=\"gender\", multiple=\"stack\")\n",
    "#as we can see there doesn't seem to be an easy correlation to gender compared to churn"
   ]
  },
  {
   "cell_type": "code",
   "execution_count": 12,
   "id": "de0fe9a7",
   "metadata": {
    "scrolled": true
   },
   "outputs": [
    {
     "data": {
      "text/plain": [
       "<seaborn.axisgrid.FacetGrid at 0x7fe068adefd0>"
      ]
     },
     "execution_count": 12,
     "metadata": {},
     "output_type": "execute_result"
    },
    {
     "data": {
      "image/png": "[encoded data removed]",
      "text/plain": [
       "<Figure size 449.625x360 with 1 Axes>"
      ]
     },
     "metadata": {
      "needs_background": "light"
     },
     "output_type": "display_data"
    }
   ],
   "source": [
    "sns.displot(data=df, x='churn', hue=\"is_senior_citizen\", multiple=\"stack\")\n",
    "#there is no obvious correlation to being a senior citizen"
   ]
  },
  {
   "cell_type": "code",
   "execution_count": 13,
   "id": "2033daba",
   "metadata": {
    "scrolled": true
   },
   "outputs": [
    {
     "data": {
      "text/plain": [
       "<seaborn.axisgrid.FacetGrid at 0x7fe068a8b2b0>"
      ]
     },
     "execution_count": 13,
     "metadata": {},
     "output_type": "execute_result"
    },
    {
     "data": {
      "image/png": "[encoded data removed]",
      "text/plain": [
       "<Figure size 412x360 with 1 Axes>"
      ]
     },
     "metadata": {
      "needs_background": "light"
     },
     "output_type": "display_data"
    }
   ],
   "source": [
    "#i feel like there may be something here that i am missing\n",
    "sns.displot(data=df, x='churn', hue=\"partner\", multiple=\"stack\")\n"
   ]
  },
  {
   "cell_type": "code",
   "execution_count": 14,
   "id": "8a8cbfee",
   "metadata": {},
   "outputs": [
    {
     "data": {
      "text/plain": [
       "<AxesSubplot:xlabel='churn', ylabel='is_senior_citizen'>"
      ]
     },
     "execution_count": 14,
     "metadata": {},
     "output_type": "execute_result"
    },
    {
     "data": {
      "image/png": "[encoded data removed]",
      "text/plain": [
       "<Figure size 432x288 with 1 Axes>"
      ]
     },
     "metadata": {
      "needs_background": "light"
     },
     "output_type": "display_data"
    }
   ],
   "source": [
    "#this tells me almost nothing...almost, what it does say is that senior citizens churn\n",
    "sns.boxplot(data = df,  x=\"churn\", y=\"is_senior_citizen\")"
   ]
  },
  {
   "cell_type": "code",
   "execution_count": 15,
   "id": "6c7f9be8",
   "metadata": {},
   "outputs": [
    {
     "data": {
      "text/plain": [
       "<AxesSubplot:xlabel='churn', ylabel='monthly_charges'>"
      ]
     },
     "execution_count": 15,
     "metadata": {},
     "output_type": "execute_result"
    },
    {
     "data": {
      "image/png": "[encoded data removed]",
      "text/plain": [
       "<Figure size 432x288 with 1 Axes>"
      ]
     },
     "metadata": {
      "needs_background": "light"
     },
     "output_type": "display_data"
    }
   ],
   "source": [
    "#what we are starting to see is that most of the people leaving are people that care getting charged 60-90 monthly\n",
    "sns.boxplot(data = df,  x=\"churn\", y=\"monthly_charges\")"
   ]
  },
  {
   "cell_type": "code",
   "execution_count": 16,
   "id": "ceea64f0",
   "metadata": {},
   "outputs": [
    {
     "data": {
      "text/plain": [
       "<AxesSubplot:xlabel='churn', ylabel='total_charges'>"
      ]
     },
     "execution_count": 16,
     "metadata": {},
     "output_type": "execute_result"
    },
    {
     "data": {
      "image/png": "[encoded data removed]",
      "text/plain": [
       "<Figure size 432x288 with 1 Axes>"
      ]
     },
     "metadata": {
      "needs_background": "light"
     },
     "output_type": "display_data"
    }
   ],
   "source": [
    "#there isn't enough of a  pattern here to descern causality, not an easy way anyway\n",
    "sns.boxplot(data = df,  x=\"churn\", y=\"total_charges\")"
   ]
  },
  {
   "cell_type": "code",
   "execution_count": 17,
   "id": "a98e9332",
   "metadata": {},
   "outputs": [
    {
     "data": {
      "text/html": [
       "<div>\n",
       "<style scoped>\n",
       "    .dataframe tbody tr th:only-of-type {\n",
       "        vertical-align: middle;\n",
       "    }\n",
       "\n",
       "    .dataframe tbody tr th {\n",
       "        vertical-align: top;\n",
       "    }\n",
       "\n",
       "    .dataframe thead th {\n",
       "        text-align: right;\n",
       "    }\n",
       "</style>\n",
       "<table border=\"1\" class=\"dataframe\">\n",
       "  <thead>\n",
       "    <tr style=\"text-align: right;\">\n",
       "      <th></th>\n",
       "      <th>0</th>\n",
       "      <th>1</th>\n",
       "      <th>2</th>\n",
       "      <th>3</th>\n",
       "      <th>4</th>\n",
       "    </tr>\n",
       "  </thead>\n",
       "  <tbody>\n",
       "    <tr>\n",
       "      <th>customer_id</th>\n",
       "      <td>0002-ORFBO</td>\n",
       "      <td>0003-MKNFE</td>\n",
       "      <td>0004-TLHLJ</td>\n",
       "      <td>0011-IGKFF</td>\n",
       "      <td>0013-EXCHZ</td>\n",
       "    </tr>\n",
       "    <tr>\n",
       "      <th>gender</th>\n",
       "      <td>Female</td>\n",
       "      <td>Male</td>\n",
       "      <td>Male</td>\n",
       "      <td>Male</td>\n",
       "      <td>Female</td>\n",
       "    </tr>\n",
       "    <tr>\n",
       "      <th>is_senior_citizen</th>\n",
       "      <td>0</td>\n",
       "      <td>0</td>\n",
       "      <td>0</td>\n",
       "      <td>1</td>\n",
       "      <td>1</td>\n",
       "    </tr>\n",
       "    <tr>\n",
       "      <th>partner</th>\n",
       "      <td>Yes</td>\n",
       "      <td>No</td>\n",
       "      <td>No</td>\n",
       "      <td>Yes</td>\n",
       "      <td>Yes</td>\n",
       "    </tr>\n",
       "    <tr>\n",
       "      <th>dependents</th>\n",
       "      <td>Yes</td>\n",
       "      <td>No</td>\n",
       "      <td>No</td>\n",
       "      <td>No</td>\n",
       "      <td>No</td>\n",
       "    </tr>\n",
       "    <tr>\n",
       "      <th>phone_service</th>\n",
       "      <td>1</td>\n",
       "      <td>2</td>\n",
       "      <td>1</td>\n",
       "      <td>1</td>\n",
       "      <td>1</td>\n",
       "    </tr>\n",
       "    <tr>\n",
       "      <th>internet_service</th>\n",
       "      <td>1</td>\n",
       "      <td>1</td>\n",
       "      <td>2</td>\n",
       "      <td>2</td>\n",
       "      <td>2</td>\n",
       "    </tr>\n",
       "    <tr>\n",
       "      <th>contract_type</th>\n",
       "      <td>1</td>\n",
       "      <td>0</td>\n",
       "      <td>0</td>\n",
       "      <td>0</td>\n",
       "      <td>0</td>\n",
       "    </tr>\n",
       "    <tr>\n",
       "      <th>payment_type</th>\n",
       "      <td>Mailed check</td>\n",
       "      <td>Mailed check</td>\n",
       "      <td>Electronic check</td>\n",
       "      <td>Electronic check</td>\n",
       "      <td>Mailed check</td>\n",
       "    </tr>\n",
       "    <tr>\n",
       "      <th>monthly_charges</th>\n",
       "      <td>65.6</td>\n",
       "      <td>59.9</td>\n",
       "      <td>73.9</td>\n",
       "      <td>98.0</td>\n",
       "      <td>83.9</td>\n",
       "    </tr>\n",
       "    <tr>\n",
       "      <th>total_charges</th>\n",
       "      <td>593.3</td>\n",
       "      <td>542.4</td>\n",
       "      <td>280.85</td>\n",
       "      <td>1237.85</td>\n",
       "      <td>267.4</td>\n",
       "    </tr>\n",
       "    <tr>\n",
       "      <th>churn</th>\n",
       "      <td>No</td>\n",
       "      <td>No</td>\n",
       "      <td>Yes</td>\n",
       "      <td>Yes</td>\n",
       "      <td>Yes</td>\n",
       "    </tr>\n",
       "    <tr>\n",
       "      <th>tenure</th>\n",
       "      <td>9.0</td>\n",
       "      <td>9.1</td>\n",
       "      <td>3.8</td>\n",
       "      <td>12.6</td>\n",
       "      <td>3.2</td>\n",
       "    </tr>\n",
       "    <tr>\n",
       "      <th>is_female</th>\n",
       "      <td>True</td>\n",
       "      <td>False</td>\n",
       "      <td>False</td>\n",
       "      <td>False</td>\n",
       "      <td>True</td>\n",
       "    </tr>\n",
       "    <tr>\n",
       "      <th>has_churned</th>\n",
       "      <td>False</td>\n",
       "      <td>False</td>\n",
       "      <td>True</td>\n",
       "      <td>True</td>\n",
       "      <td>True</td>\n",
       "    </tr>\n",
       "    <tr>\n",
       "      <th>has_phone</th>\n",
       "      <td>True</td>\n",
       "      <td>True</td>\n",
       "      <td>True</td>\n",
       "      <td>True</td>\n",
       "      <td>True</td>\n",
       "    </tr>\n",
       "    <tr>\n",
       "      <th>has_internet</th>\n",
       "      <td>True</td>\n",
       "      <td>True</td>\n",
       "      <td>True</td>\n",
       "      <td>True</td>\n",
       "      <td>True</td>\n",
       "    </tr>\n",
       "    <tr>\n",
       "      <th>has_phone_internet</th>\n",
       "      <td>True</td>\n",
       "      <td>True</td>\n",
       "      <td>True</td>\n",
       "      <td>True</td>\n",
       "      <td>True</td>\n",
       "    </tr>\n",
       "    <tr>\n",
       "      <th>partner_dependents</th>\n",
       "      <td>3</td>\n",
       "      <td>0</td>\n",
       "      <td>0</td>\n",
       "      <td>1</td>\n",
       "      <td>1</td>\n",
       "    </tr>\n",
       "    <tr>\n",
       "      <th>calculated_monthly_avg</th>\n",
       "      <td>65.6</td>\n",
       "      <td>59.9</td>\n",
       "      <td>73.9</td>\n",
       "      <td>98</td>\n",
       "      <td>83.9</td>\n",
       "    </tr>\n",
       "    <tr>\n",
       "      <th>validate</th>\n",
       "      <td>TRUE</td>\n",
       "      <td>TRUE</td>\n",
       "      <td>TRUE</td>\n",
       "      <td>TRUE</td>\n",
       "      <td>TRUE</td>\n",
       "    </tr>\n",
       "    <tr>\n",
       "      <th>phone_service_type</th>\n",
       "      <td>One Line</td>\n",
       "      <td>Two or More Lines</td>\n",
       "      <td>One Line</td>\n",
       "      <td>One Line</td>\n",
       "      <td>One Line</td>\n",
       "    </tr>\n",
       "    <tr>\n",
       "      <th>Internet_service_type</th>\n",
       "      <td>DSL</td>\n",
       "      <td>DSL</td>\n",
       "      <td>Fiber Optic</td>\n",
       "      <td>Fiber Optic</td>\n",
       "      <td>Fiber Optic</td>\n",
       "    </tr>\n",
       "    <tr>\n",
       "      <th>Contract_type</th>\n",
       "      <td>1 Year</td>\n",
       "      <td>Month-to-Month</td>\n",
       "      <td>Month-to-Month</td>\n",
       "      <td>Month-to-Month</td>\n",
       "      <td>Month-to-Month</td>\n",
       "    </tr>\n",
       "    <tr>\n",
       "      <th>rounded_tenure</th>\n",
       "      <td>9.0</td>\n",
       "      <td>9.0</td>\n",
       "      <td>4.0</td>\n",
       "      <td>13.0</td>\n",
       "      <td>3.0</td>\n",
       "    </tr>\n",
       "    <tr>\n",
       "      <th>Service_type</th>\n",
       "      <td>Internet+Phone</td>\n",
       "      <td>Internet+Phone</td>\n",
       "      <td>Internet+Phone</td>\n",
       "      <td>Internet+Phone</td>\n",
       "      <td>Internet+Phone</td>\n",
       "    </tr>\n",
       "    <tr>\n",
       "      <th>Tenure_binned</th>\n",
       "      <td>&lt;1 years</td>\n",
       "      <td>&lt;1 years</td>\n",
       "      <td>&lt;1 years</td>\n",
       "      <td>1-2 years</td>\n",
       "      <td>&lt;1 years</td>\n",
       "    </tr>\n",
       "  </tbody>\n",
       "</table>\n",
       "</div>"
      ],
      "text/plain": [
       "                                     0                  1                 2  \\\n",
       "customer_id                 0002-ORFBO         0003-MKNFE        0004-TLHLJ   \n",
       "gender                          Female               Male              Male   \n",
       "is_senior_citizen                    0                  0                 0   \n",
       "partner                            Yes                 No                No   \n",
       "dependents                         Yes                 No                No   \n",
       "phone_service                        1                  2                 1   \n",
       "internet_service                     1                  1                 2   \n",
       "contract_type                        1                  0                 0   \n",
       "payment_type              Mailed check       Mailed check  Electronic check   \n",
       "monthly_charges                   65.6               59.9              73.9   \n",
       "total_charges                    593.3              542.4            280.85   \n",
       "churn                               No                 No               Yes   \n",
       "tenure                             9.0                9.1               3.8   \n",
       "is_female                         True              False             False   \n",
       "has_churned                      False              False              True   \n",
       "has_phone                         True               True              True   \n",
       "has_internet                      True               True              True   \n",
       "has_phone_internet                True               True              True   \n",
       "partner_dependents                   3                  0                 0   \n",
       "calculated_monthly_avg            65.6               59.9              73.9   \n",
       "validate                          TRUE               TRUE              TRUE   \n",
       "phone_service_type            One Line  Two or More Lines          One Line   \n",
       "Internet_service_type              DSL                DSL       Fiber Optic   \n",
       "Contract_type                   1 Year     Month-to-Month    Month-to-Month   \n",
       "rounded_tenure                     9.0                9.0               4.0   \n",
       "Service_type            Internet+Phone     Internet+Phone    Internet+Phone   \n",
       "Tenure_binned                 <1 years           <1 years          <1 years   \n",
       "\n",
       "                                       3               4  \n",
       "customer_id                   0011-IGKFF      0013-EXCHZ  \n",
       "gender                              Male          Female  \n",
       "is_senior_citizen                      1               1  \n",
       "partner                              Yes             Yes  \n",
       "dependents                            No              No  \n",
       "phone_service                          1               1  \n",
       "internet_service                       2               2  \n",
       "contract_type                          0               0  \n",
       "payment_type            Electronic check    Mailed check  \n",
       "monthly_charges                     98.0            83.9  \n",
       "total_charges                    1237.85           267.4  \n",
       "churn                                Yes             Yes  \n",
       "tenure                              12.6             3.2  \n",
       "is_female                          False            True  \n",
       "has_churned                         True            True  \n",
       "has_phone                           True            True  \n",
       "has_internet                        True            True  \n",
       "has_phone_internet                  True            True  \n",
       "partner_dependents                     1               1  \n",
       "calculated_monthly_avg                98            83.9  \n",
       "validate                            TRUE            TRUE  \n",
       "phone_service_type              One Line        One Line  \n",
       "Internet_service_type        Fiber Optic     Fiber Optic  \n",
       "Contract_type             Month-to-Month  Month-to-Month  \n",
       "rounded_tenure                      13.0             3.0  \n",
       "Service_type              Internet+Phone  Internet+Phone  \n",
       "Tenure_binned                  1-2 years        <1 years  "
      ]
     },
     "execution_count": 17,
     "metadata": {},
     "output_type": "execute_result"
    }
   ],
   "source": [
    "#now i can find code that shoes the average sum of the customers lost\n",
    "df.head().T"
   ]
  },
  {
   "cell_type": "code",
   "execution_count": 18,
   "id": "59680a9a",
   "metadata": {},
   "outputs": [
    {
     "data": {
      "text/plain": [
       "2       73.90\n",
       "3       98.00\n",
       "4       83.90\n",
       "18      62.70\n",
       "19      25.10\n",
       "        ...  \n",
       "7023    83.85\n",
       "7031    30.50\n",
       "7042    70.15\n",
       "7043    20.95\n",
       "7045    85.10\n",
       "Name: monthly_charges, Length: 1870, dtype: float64"
      ]
     },
     "execution_count": 18,
     "metadata": {},
     "output_type": "execute_result"
    }
   ],
   "source": [
    "#I am proud of finding the solution on this one\n",
    "df.monthly_charges[df.churn == \"Yes\"]\n",
    "#This function let's us see the amounts that customers paid who left the company"
   ]
  },
  {
   "cell_type": "code",
   "execution_count": 19,
   "id": "69f3284b",
   "metadata": {},
   "outputs": [
    {
     "data": {
      "text/plain": [
       "139161.35"
      ]
     },
     "execution_count": 19,
     "metadata": {},
     "output_type": "execute_result"
    }
   ],
   "source": [
    "#of which total all the way up to 139161.35\n",
    "df.monthly_charges[df.churn == \"Yes\"].sum()"
   ]
  },
  {
   "cell_type": "code",
   "execution_count": 20,
   "id": "5b4eba69",
   "metadata": {},
   "outputs": [
    {
     "data": {
      "text/plain": [
       "1669936.2000000002"
      ]
     },
     "execution_count": 20,
     "metadata": {},
     "output_type": "execute_result"
    }
   ],
   "source": [
    "#lets turn this into a callable variable to possibly reference in the future\n",
    "monthly_loss = df.monthly_charges[df.churn == \"Yes\"].sum()\n",
    "monthly_loss * 12\n",
    "#on its own this isn't too crazy but how can we emphasize a note?\n",
    "#hyperbole!\n",
    "#over the course of a year that is a total of 1669936.20"
   ]
  },
  {
   "cell_type": "markdown",
   "id": "a7086a8d",
   "metadata": {},
   "source": [
    "## found it! my big pressing thumnail"
   ]
  },
  {
   "cell_type": "code",
   "execution_count": 21,
   "id": "5707e5bb",
   "metadata": {},
   "outputs": [
    {
     "data": {
      "text/plain": [
       "1113290.8"
      ]
     },
     "execution_count": 21,
     "metadata": {},
     "output_type": "execute_result"
    }
   ],
   "source": [
    "#\"If you can hold out for 8 more months you'll have a million dollar total return\" - working title\n",
    "monthly_loss*8"
   ]
  },
  {
   "cell_type": "markdown",
   "id": "d5453bec",
   "metadata": {},
   "source": [
    "## possible lead"
   ]
  },
  {
   "cell_type": "code",
   "execution_count": 22,
   "id": "d09864ac",
   "metadata": {},
   "outputs": [
    {
     "data": {
      "text/plain": [
       "<seaborn.axisgrid.FacetGrid at 0x7fe069715fa0>"
      ]
     },
     "execution_count": 22,
     "metadata": {},
     "output_type": "execute_result"
    },
    {
     "data": {
      "image/png": "[encoded data removed]",
      "text/plain": [
       "<Figure size 427.25x360 with 1 Axes>"
      ]
     },
     "metadata": {
      "needs_background": "light"
     },
     "output_type": "display_data"
    }
   ],
   "source": [
    "#find the rest of the other attributing factors and how they play with churn\n",
    "sns.displot(data = df,  x=\"churn\", hue=\"dependents\", multiple=\"stack\")\n",
    "#there might be something here because this looks different"
   ]
  },
  {
   "cell_type": "markdown",
   "id": "cc11d5e5",
   "metadata": {},
   "source": [
    "## phone_service possible lead"
   ]
  },
  {
   "cell_type": "code",
   "execution_count": 23,
   "id": "b142c510",
   "metadata": {},
   "outputs": [
    {
     "data": {
      "text/plain": [
       "<seaborn.axisgrid.FacetGrid at 0x7fe069724940>"
      ]
     },
     "execution_count": 23,
     "metadata": {},
     "output_type": "execute_result"
    },
    {
     "data": {
      "image/png": "[encoded data removed]",
      "text/plain": [
       "<Figure size 440x360 with 1 Axes>"
      ]
     },
     "metadata": {
      "needs_background": "light"
     },
     "output_type": "display_data"
    }
   ],
   "source": [
    "sns.displot(data = df,  \n",
    "            x=\"churn\",\n",
    "            hue=\"phone_service\",\n",
    "           color=\"firebrick\",\n",
    "            multiple=\"stack\")\n",
    "# I think there might be something to this"
   ]
  },
  {
   "cell_type": "code",
   "execution_count": 24,
   "id": "e1f0606f",
   "metadata": {},
   "outputs": [
    {
     "data": {
      "text/plain": [
       "<seaborn.axisgrid.FacetGrid at 0x7fe069607760>"
      ]
     },
     "execution_count": 24,
     "metadata": {},
     "output_type": "execute_result"
    },
    {
     "data": {
      "image/png": "[encoded data removed]",
      "text/plain": [
       "<Figure size 448.5x360 with 1 Axes>"
      ]
     },
     "metadata": {
      "needs_background": "light"
     },
     "output_type": "display_data"
    }
   ],
   "source": [
    "sns.displot(data = df,  \n",
    "            x=\"churn\",\n",
    "            hue=\"internet_service\",\n",
    "            multiple=\"stack\")"
   ]
  },
  {
   "cell_type": "code",
   "execution_count": 25,
   "id": "6270cc8d",
   "metadata": {},
   "outputs": [
    {
     "data": {
      "text/plain": [
       "<seaborn.axisgrid.FacetGrid at 0x7fe069607730>"
      ]
     },
     "execution_count": 25,
     "metadata": {},
     "output_type": "execute_result"
    },
    {
     "data": {
      "image/png": "[encoded data removed]",
      "text/plain": [
       "<Figure size 436.5x360 with 1 Axes>"
      ]
     },
     "metadata": {
      "needs_background": "light"
     },
     "output_type": "display_data"
    }
   ],
   "source": [
    "sns.displot(data = df,  \n",
    "            x=\"churn\",\n",
    "            hue=\"contract_type\",\n",
    "            multiple=\"stack\")"
   ]
  },
  {
   "cell_type": "code",
   "execution_count": 26,
   "id": "c0a33eca",
   "metadata": {},
   "outputs": [
    {
     "data": {
      "text/plain": [
       "<seaborn.axisgrid.FacetGrid at 0x7fe06a3b8e20>"
      ]
     },
     "execution_count": 26,
     "metadata": {},
     "output_type": "execute_result"
    },
    {
     "data": {
      "image/png": "[encoded data removed]",
      "text/plain": [
       "<Figure size 525.125x360 with 1 Axes>"
      ]
     },
     "metadata": {
      "needs_background": "light"
     },
     "output_type": "display_data"
    }
   ],
   "source": [
    "sns.displot(data = df,  \n",
    "            x=\"churn\",\n",
    "            hue=\"payment_type\",\n",
    "            multiple=\"stack\")"
   ]
  },
  {
   "cell_type": "code",
   "execution_count": 27,
   "id": "1e1fa1fc",
   "metadata": {},
   "outputs": [
    {
     "data": {
      "text/plain": [
       "<AxesSubplot:xlabel='churn', ylabel='total_charges'>"
      ]
     },
     "execution_count": 27,
     "metadata": {},
     "output_type": "execute_result"
    },
    {
     "data": {
      "image/png": "[encoded data removed]",
      "text/plain": [
       "<Figure size 432x288 with 1 Axes>"
      ]
     },
     "metadata": {
      "needs_background": "light"
     },
     "output_type": "display_data"
    }
   ],
   "source": [
    "sns.boxplot(data = df,  \n",
    "            x=\"churn\",\n",
    "            y=\"total_charges\",)\n",
    "#             multiple=\"stack\")"
   ]
  },
  {
   "cell_type": "code",
   "execution_count": 28,
   "id": "d719a998",
   "metadata": {},
   "outputs": [
    {
     "data": {
      "text/plain": [
       "<AxesSubplot:xlabel='churn', ylabel='monthly_charges'>"
      ]
     },
     "execution_count": 28,
     "metadata": {},
     "output_type": "execute_result"
    },
    {
     "data": {
      "image/png": "[encoded data removed]",
      "text/plain": [
       "<Figure size 432x288 with 1 Axes>"
      ]
     },
     "metadata": {
      "needs_background": "light"
     },
     "output_type": "display_data"
    }
   ],
   "source": [
    "sns.boxplot(data = df,  \n",
    "            x=\"churn\",\n",
    "            y=\"monthly_charges\",)"
   ]
  },
  {
   "cell_type": "code",
   "execution_count": 29,
   "id": "83e2379f",
   "metadata": {},
   "outputs": [
    {
     "data": {
      "text/plain": [
       "<AxesSubplot:xlabel='churn', ylabel='tenure'>"
      ]
     },
     "execution_count": 29,
     "metadata": {},
     "output_type": "execute_result"
    },
    {
     "data": {
      "image/png": "[encoded data removed]",
      "text/plain": [
       "<Figure size 432x288 with 1 Axes>"
      ]
     },
     "metadata": {
      "needs_background": "light"
     },
     "output_type": "display_data"
    }
   ],
   "source": [
    "sns.boxplot(data = df,  \n",
    "            x=\"churn\",\n",
    "            y=\"tenure\",)"
   ]
  },
  {
   "cell_type": "code",
   "execution_count": 30,
   "id": "f2939f38",
   "metadata": {},
   "outputs": [
    {
     "data": {
      "text/html": [
       "<div>\n",
       "<style scoped>\n",
       "    .dataframe tbody tr th:only-of-type {\n",
       "        vertical-align: middle;\n",
       "    }\n",
       "\n",
       "    .dataframe tbody tr th {\n",
       "        vertical-align: top;\n",
       "    }\n",
       "\n",
       "    .dataframe thead th {\n",
       "        text-align: right;\n",
       "    }\n",
       "</style>\n",
       "<table border=\"1\" class=\"dataframe\">\n",
       "  <thead>\n",
       "    <tr style=\"text-align: right;\">\n",
       "      <th>churn</th>\n",
       "      <th>No</th>\n",
       "      <th>Yes</th>\n",
       "    </tr>\n",
       "    <tr>\n",
       "      <th>tenure</th>\n",
       "      <th></th>\n",
       "      <th></th>\n",
       "    </tr>\n",
       "  </thead>\n",
       "  <tbody>\n",
       "    <tr>\n",
       "      <th>0.0</th>\n",
       "      <td>11</td>\n",
       "      <td>0</td>\n",
       "    </tr>\n",
       "    <tr>\n",
       "      <th>1.0</th>\n",
       "      <td>233</td>\n",
       "      <td>381</td>\n",
       "    </tr>\n",
       "    <tr>\n",
       "      <th>1.4</th>\n",
       "      <td>1</td>\n",
       "      <td>1</td>\n",
       "    </tr>\n",
       "    <tr>\n",
       "      <th>1.5</th>\n",
       "      <td>1</td>\n",
       "      <td>2</td>\n",
       "    </tr>\n",
       "    <tr>\n",
       "      <th>1.6</th>\n",
       "      <td>8</td>\n",
       "      <td>2</td>\n",
       "    </tr>\n",
       "    <tr>\n",
       "      <th>...</th>\n",
       "      <td>...</td>\n",
       "      <td>...</td>\n",
       "    </tr>\n",
       "    <tr>\n",
       "      <th>76.9</th>\n",
       "      <td>1</td>\n",
       "      <td>0</td>\n",
       "    </tr>\n",
       "    <tr>\n",
       "      <th>77.1</th>\n",
       "      <td>1</td>\n",
       "      <td>0</td>\n",
       "    </tr>\n",
       "    <tr>\n",
       "      <th>77.2</th>\n",
       "      <td>2</td>\n",
       "      <td>0</td>\n",
       "    </tr>\n",
       "    <tr>\n",
       "      <th>77.4</th>\n",
       "      <td>1</td>\n",
       "      <td>0</td>\n",
       "    </tr>\n",
       "    <tr>\n",
       "      <th>79.3</th>\n",
       "      <td>1</td>\n",
       "      <td>0</td>\n",
       "    </tr>\n",
       "  </tbody>\n",
       "</table>\n",
       "<p>748 rows × 2 columns</p>\n",
       "</div>"
      ],
      "text/plain": [
       "churn    No  Yes\n",
       "tenure          \n",
       "0.0      11    0\n",
       "1.0     233  381\n",
       "1.4       1    1\n",
       "1.5       1    2\n",
       "1.6       8    2\n",
       "...     ...  ...\n",
       "76.9      1    0\n",
       "77.1      1    0\n",
       "77.2      2    0\n",
       "77.4      1    0\n",
       "79.3      1    0\n",
       "\n",
       "[748 rows x 2 columns]"
      ]
     },
     "execution_count": 30,
     "metadata": {},
     "output_type": "execute_result"
    }
   ],
   "source": [
    "ten_chun=pd.crosstab(index=df.tenure, columns=df.churn)\n",
    "ten_chun"
   ]
  },
  {
   "cell_type": "code",
   "execution_count": 36,
   "id": "58b3eec6",
   "metadata": {},
   "outputs": [
    {
     "data": {
      "text/plain": [
       "283479.30000000005"
      ]
     },
     "execution_count": 36,
     "metadata": {},
     "output_type": "execute_result"
    }
   ],
   "source": [
    "df.monthly_charges[df.Internet_service_type==\"Fiber Optic\"].sum()\n",
    "#.monthly_charges"
   ]
  }
 ],
 "metadata": {
  "kernelspec": {
   "display_name": "Python 3 (ipykernel)",
   "language": "python",
   "name": "python3"
  },
  "language_info": {
   "codemirror_mode": {
    "name": "ipython",
    "version": 3
   },
   "file_extension": ".py",
   "mimetype": "text/x-python",
   "name": "python",
   "nbconvert_exporter": "python",
   "pygments_lexer": "ipython3",
   "version": "3.9.7"
  }
 },
 "nbformat": 4,
 "nbformat_minor": 5
}
